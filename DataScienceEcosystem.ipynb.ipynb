{
  "metadata": {
    "kernelspec": {
      "name": "python",
      "display_name": "Python (Pyodide)",
      "language": "python"
    },
    "language_info": {
      "codemirror_mode": {
        "name": "python",
        "version": 3
      },
      "file_extension": ".py",
      "mimetype": "text/x-python",
      "name": "python",
      "nbconvert_exporter": "python",
      "pygments_lexer": "ipython3",
      "version": "3.8"
    }
  },
  "nbformat_minor": 5,
  "nbformat": 4,
  "cells": [
    {
      "id": "ddbf2867-2a96-4068-9747-7a1847dfa5b2",
      "cell_type": "markdown",
      "source": "In this notebook, Data Science Tools and Ecosystem are summarized.",
      "metadata": {}
    },
    {
      "id": "348197cb-747e-4483-9ac4-4bb15a6f73f9",
      "cell_type": "markdown",
      "source": "# Data Science Tools and Ecosystem",
      "metadata": {}
    },
    {
      "id": "42cc9920-1218-4625-9efa-48e3d8c1fdb1",
      "cell_type": "markdown",
      "source": "Some of the popular languages that Data Scientists use are:\n\n1. Python\n2. R\n3. SQL\n4. Julia\n5. Scala\n",
      "metadata": {}
    },
    {
      "id": "71fbf8f3-0414-43b8-a8d0-6a49d26d310b",
      "cell_type": "markdown",
      "source": "Some of the commonly used libraries used by Data Scientists include:\n\n1. Pandas\n2. NumPy\n3. Matplotlib\n4. Scikit-learn\n5. TensorFlow\n",
      "metadata": {}
    },
    {
      "id": "2dd78578-8bc5-4178-94c6-249547e1d0a9",
      "cell_type": "markdown",
      "source": "| Data Science Tools |\n|-------------------|\n| Jupyter Notebook  |\n| RStudio           |\n| VS Code           |\n",
      "metadata": {}
    },
    {
      "id": "3c97a71a-d550-444e-889c-6ead382e89ef",
      "cell_type": "markdown",
      "source": "### Below are a few examples of evaluating arithmetic expressions in Python.",
      "metadata": {}
    },
    {
      "id": "06b75be3-c6f8-4a7b-8682-5d237079d2d2",
      "cell_type": "code",
      "source": "(3 * 4) + 5\n",
      "metadata": {
        "trusted": true
      },
      "outputs": [
        {
          "execution_count": 8,
          "output_type": "execute_result",
          "data": {
            "text/plain": "17"
          },
          "metadata": {}
        }
      ],
      "execution_count": 8
    },
    {
      "id": "f06b1000-89b1-47be-a4e5-b0f7d7819454",
      "cell_type": "code",
      "source": "# This will convert 200 minutes to hours by dividing by 60\n200 / 60",
      "metadata": {
        "trusted": true
      },
      "outputs": [
        {
          "execution_count": 7,
          "output_type": "execute_result",
          "data": {
            "text/plain": "3.3333333333333335"
          },
          "metadata": {}
        }
      ],
      "execution_count": 7
    },
    {
      "id": "032320d5-cb31-435e-9eff-2ec1521ddd64",
      "cell_type": "markdown",
      "source": "**Objectives:**\n\n- List popular languages for Data Science\n- List commonly used Data Science libraries\n- Identify open-source Data Science tools\n- Evaluate simple arithmetic expressions in Python\n- Convert units using Python expressions\n",
      "metadata": {}
    },
    {
      "id": "db3ccc4e-c198-4fff-9da0-bb7c40771018",
      "cell_type": "markdown",
      "source": "## Author\n\nLaksh Bhilawe\n",
      "metadata": {}
    },
    {
      "id": "d00110e0-ab4d-4aa1-b11f-642d30a81a40",
      "cell_type": "code",
      "source": "",
      "metadata": {
        "trusted": true
      },
      "outputs": [],
      "execution_count": null
    }
  ]
}